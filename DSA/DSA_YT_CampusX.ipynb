{
 "cells": [
  {
   "cell_type": "markdown",
   "id": "befd0dc5",
   "metadata": {},
   "source": [
    "https://www.youtube.com/watch?v=f9Aje_cN_CY&list=RDCMUCCWi3hpnq_Pe03nGxuS7isg&start_radio=1&t=37s"
   ]
  },
  {
   "cell_type": "markdown",
   "id": "fa2a9997",
   "metadata": {},
   "source": [
    "# Adding the elements present in the list "
   ]
  },
  {
   "cell_type": "code",
   "execution_count": 1,
   "id": "62e42a12",
   "metadata": {},
   "outputs": [
    {
     "name": "stdout",
     "output_type": "stream",
     "text": [
      "15\n"
     ]
    }
   ],
   "source": [
    "L = [1,2,3,4,5]\n",
    "\n",
    "sum = 0\n",
    "for i in L:\n",
    "    sum = sum+i\n",
    "print(sum)"
   ]
  },
  {
   "cell_type": "markdown",
   "id": "cea45a51",
   "metadata": {},
   "source": [
    "# Multipling the elements present in the list "
   ]
  },
  {
   "cell_type": "code",
   "execution_count": 2,
   "id": "d624db06",
   "metadata": {},
   "outputs": [
    {
     "name": "stdout",
     "output_type": "stream",
     "text": [
      "600\n"
     ]
    }
   ],
   "source": [
    "L = [1,2,3,4,5]\n",
    "\n",
    "product = 5\n",
    "for i in L:\n",
    "    product = product*i\n",
    "print(product)"
   ]
  },
  {
   "cell_type": "markdown",
   "id": "2ea1ebba",
   "metadata": {},
   "source": [
    "# Creating Pair of 2 elements present in the list "
   ]
  },
  {
   "cell_type": "code",
   "execution_count": 3,
   "id": "1cffeb4a",
   "metadata": {},
   "outputs": [
    {
     "name": "stdout",
     "output_type": "stream",
     "text": [
      "(1, 1)\n",
      "(1, 2)\n",
      "(1, 3)\n",
      "(1, 4)\n",
      "(1, 5)\n",
      "(2, 1)\n",
      "(2, 2)\n",
      "(2, 3)\n",
      "(2, 4)\n",
      "(2, 5)\n",
      "(3, 1)\n",
      "(3, 2)\n",
      "(3, 3)\n",
      "(3, 4)\n",
      "(3, 5)\n",
      "(4, 1)\n",
      "(4, 2)\n",
      "(4, 3)\n",
      "(4, 4)\n",
      "(4, 5)\n",
      "(5, 1)\n",
      "(5, 2)\n",
      "(5, 3)\n",
      "(5, 4)\n",
      "(5, 5)\n"
     ]
    }
   ],
   "source": [
    "L = [1, 2, 3, 4, 5]\n",
    "for i in L:\n",
    "    for j in L:\n",
    "        print('({}, {})'.format(i,j))"
   ]
  },
  {
   "cell_type": "markdown",
   "id": "7104d531",
   "metadata": {},
   "source": [
    "# Integer to String"
   ]
  },
  {
   "cell_type": "code",
   "execution_count": 4,
   "id": "8a019a1e",
   "metadata": {},
   "outputs": [
    {
     "data": {
      "text/plain": [
       "'5454'"
      ]
     },
     "execution_count": 4,
     "metadata": {},
     "output_type": "execute_result"
    }
   ],
   "source": [
    "def intToStr(i):\n",
    "    if i==0:\n",
    "        return '0'\n",
    "    \n",
    "    digits = '0123456789'\n",
    "    result=''\n",
    "    while i>0:\n",
    "        result = digits[i%10] + result\n",
    "        i = i//10\n",
    "    return result\n",
    "\n",
    "intToStr(5454)"
   ]
  },
  {
   "cell_type": "markdown",
   "id": "0b332931",
   "metadata": {},
   "source": [
    "# Pairing"
   ]
  },
  {
   "cell_type": "code",
   "execution_count": 5,
   "id": "0d888dd2",
   "metadata": {},
   "outputs": [
    {
     "name": "stdout",
     "output_type": "stream",
     "text": [
      "(1, 2)\n",
      "(1, 3)\n",
      "(1, 4)\n",
      "(1, 5)\n",
      "(2, 3)\n",
      "(2, 4)\n",
      "(2, 5)\n",
      "(3, 4)\n",
      "(3, 5)\n",
      "(4, 5)\n"
     ]
    }
   ],
   "source": [
    "L = [1, 2, 3, 4, 5]\n",
    "\n",
    "for i in range(0, len(L)):\n",
    "    for j in range(i+1, len(L)):\n",
    "        print('({}, {})'.format(L[i], L[j]))"
   ]
  },
  {
   "cell_type": "markdown",
   "id": "9b4dfddd",
   "metadata": {},
   "source": [
    "# Pairing (condition : 1st element < 2nd Element)"
   ]
  },
  {
   "cell_type": "code",
   "execution_count": 6,
   "id": "3fdaaac6",
   "metadata": {},
   "outputs": [
    {
     "name": "stdout",
     "output_type": "stream",
     "text": [
      "(1, 2)\n",
      "(1, 3)\n",
      "(1, 4)\n",
      "(1, 5)\n",
      "(1, 6)\n",
      "(1, 7)\n",
      "(2, 3)\n",
      "(2, 4)\n",
      "(2, 5)\n",
      "(2, 6)\n",
      "(2, 7)\n",
      "(3, 4)\n",
      "(3, 5)\n",
      "(3, 6)\n",
      "(3, 7)\n",
      "(4, 5)\n",
      "(4, 6)\n",
      "(4, 7)\n"
     ]
    }
   ],
   "source": [
    "a = [1,2,3,4]\n",
    "b = [2,3,4,5,6,7]\n",
    "\n",
    "for i in a:\n",
    "    for j in b:\n",
    "        if i<j:\n",
    "            print('({}, {})'.format(i,j))"
   ]
  },
  {
   "cell_type": "markdown",
   "id": "4d713454",
   "metadata": {},
   "source": [
    "# Paring n times"
   ]
  },
  {
   "cell_type": "code",
   "execution_count": 7,
   "id": "07a8f4f5",
   "metadata": {},
   "outputs": [
    {
     "name": "stdout",
     "output_type": "stream",
     "text": [
      "(1, 2)\n",
      "(1, 2)\n",
      "(1, 2)\n",
      "(1, 2)\n",
      "(1, 2)\n",
      "(1, 2)\n",
      "(1, 2)\n",
      "(1, 2)\n",
      "(1, 2)\n",
      "(1, 2)\n",
      "(1, 3)\n",
      "(1, 3)\n",
      "(1, 3)\n",
      "(1, 3)\n",
      "(1, 3)\n",
      "(1, 3)\n",
      "(1, 3)\n",
      "(1, 3)\n",
      "(1, 3)\n",
      "(1, 3)\n",
      "(1, 4)\n",
      "(1, 4)\n",
      "(1, 4)\n",
      "(1, 4)\n",
      "(1, 4)\n",
      "(1, 4)\n",
      "(1, 4)\n",
      "(1, 4)\n",
      "(1, 4)\n",
      "(1, 4)\n",
      "(1, 5)\n",
      "(1, 5)\n",
      "(1, 5)\n",
      "(1, 5)\n",
      "(1, 5)\n",
      "(1, 5)\n",
      "(1, 5)\n",
      "(1, 5)\n",
      "(1, 5)\n",
      "(1, 5)\n",
      "(1, 6)\n",
      "(1, 6)\n",
      "(1, 6)\n",
      "(1, 6)\n",
      "(1, 6)\n",
      "(1, 6)\n",
      "(1, 6)\n",
      "(1, 6)\n",
      "(1, 6)\n",
      "(1, 6)\n",
      "(2, 2)\n",
      "(2, 2)\n",
      "(2, 2)\n",
      "(2, 2)\n",
      "(2, 2)\n",
      "(2, 2)\n",
      "(2, 2)\n",
      "(2, 2)\n",
      "(2, 2)\n",
      "(2, 2)\n",
      "(2, 3)\n",
      "(2, 3)\n",
      "(2, 3)\n",
      "(2, 3)\n",
      "(2, 3)\n",
      "(2, 3)\n",
      "(2, 3)\n",
      "(2, 3)\n",
      "(2, 3)\n",
      "(2, 3)\n",
      "(2, 4)\n",
      "(2, 4)\n",
      "(2, 4)\n",
      "(2, 4)\n",
      "(2, 4)\n",
      "(2, 4)\n",
      "(2, 4)\n",
      "(2, 4)\n",
      "(2, 4)\n",
      "(2, 4)\n",
      "(2, 5)\n",
      "(2, 5)\n",
      "(2, 5)\n",
      "(2, 5)\n",
      "(2, 5)\n",
      "(2, 5)\n",
      "(2, 5)\n",
      "(2, 5)\n",
      "(2, 5)\n",
      "(2, 5)\n",
      "(2, 6)\n",
      "(2, 6)\n",
      "(2, 6)\n",
      "(2, 6)\n",
      "(2, 6)\n",
      "(2, 6)\n",
      "(2, 6)\n",
      "(2, 6)\n",
      "(2, 6)\n",
      "(2, 6)\n",
      "(3, 2)\n",
      "(3, 2)\n",
      "(3, 2)\n",
      "(3, 2)\n",
      "(3, 2)\n",
      "(3, 2)\n",
      "(3, 2)\n",
      "(3, 2)\n",
      "(3, 2)\n",
      "(3, 2)\n",
      "(3, 3)\n",
      "(3, 3)\n",
      "(3, 3)\n",
      "(3, 3)\n",
      "(3, 3)\n",
      "(3, 3)\n",
      "(3, 3)\n",
      "(3, 3)\n",
      "(3, 3)\n",
      "(3, 3)\n",
      "(3, 4)\n",
      "(3, 4)\n",
      "(3, 4)\n",
      "(3, 4)\n",
      "(3, 4)\n",
      "(3, 4)\n",
      "(3, 4)\n",
      "(3, 4)\n",
      "(3, 4)\n",
      "(3, 4)\n",
      "(3, 5)\n",
      "(3, 5)\n",
      "(3, 5)\n",
      "(3, 5)\n",
      "(3, 5)\n",
      "(3, 5)\n",
      "(3, 5)\n",
      "(3, 5)\n",
      "(3, 5)\n",
      "(3, 5)\n",
      "(3, 6)\n",
      "(3, 6)\n",
      "(3, 6)\n",
      "(3, 6)\n",
      "(3, 6)\n",
      "(3, 6)\n",
      "(3, 6)\n",
      "(3, 6)\n",
      "(3, 6)\n",
      "(3, 6)\n",
      "(4, 2)\n",
      "(4, 2)\n",
      "(4, 2)\n",
      "(4, 2)\n",
      "(4, 2)\n",
      "(4, 2)\n",
      "(4, 2)\n",
      "(4, 2)\n",
      "(4, 2)\n",
      "(4, 2)\n",
      "(4, 3)\n",
      "(4, 3)\n",
      "(4, 3)\n",
      "(4, 3)\n",
      "(4, 3)\n",
      "(4, 3)\n",
      "(4, 3)\n",
      "(4, 3)\n",
      "(4, 3)\n",
      "(4, 3)\n",
      "(4, 4)\n",
      "(4, 4)\n",
      "(4, 4)\n",
      "(4, 4)\n",
      "(4, 4)\n",
      "(4, 4)\n",
      "(4, 4)\n",
      "(4, 4)\n",
      "(4, 4)\n",
      "(4, 4)\n",
      "(4, 5)\n",
      "(4, 5)\n",
      "(4, 5)\n",
      "(4, 5)\n",
      "(4, 5)\n",
      "(4, 5)\n",
      "(4, 5)\n",
      "(4, 5)\n",
      "(4, 5)\n",
      "(4, 5)\n",
      "(4, 6)\n",
      "(4, 6)\n",
      "(4, 6)\n",
      "(4, 6)\n",
      "(4, 6)\n",
      "(4, 6)\n",
      "(4, 6)\n",
      "(4, 6)\n",
      "(4, 6)\n",
      "(4, 6)\n"
     ]
    }
   ],
   "source": [
    "a = [1,2,3,4]\n",
    "b = [2,3,4,5,6]\n",
    "\n",
    "for i in a:\n",
    "    for j in b:\n",
    "        for k in range(10):\n",
    "            print('({}, {})'.format(i, j))"
   ]
  },
  {
   "cell_type": "markdown",
   "id": "0dfe4d63",
   "metadata": {},
   "source": [
    "# Reversing the list"
   ]
  },
  {
   "cell_type": "code",
   "execution_count": 8,
   "id": "4a5042eb",
   "metadata": {},
   "outputs": [
    {
     "name": "stdout",
     "output_type": "stream",
     "text": [
      "[5, 4, 3, 2, 1]\n"
     ]
    }
   ],
   "source": [
    "L = [1,2,3,4,5]\n",
    "\n",
    "for i in range(0, len(L)//2):\n",
    "    other = len(L)-i-1\n",
    "    temp = L[i]\n",
    "    L[i] = L[other]\n",
    "    L[other] = temp\n",
    "\n",
    "print(L)"
   ]
  },
  {
   "cell_type": "markdown",
   "id": "553b87ae",
   "metadata": {},
   "source": [
    "# Factorial"
   ]
  },
  {
   "cell_type": "code",
   "execution_count": 9,
   "id": "4786d668",
   "metadata": {},
   "outputs": [
    {
     "data": {
      "text/plain": [
       "24"
      ]
     },
     "execution_count": 9,
     "metadata": {},
     "output_type": "execute_result"
    }
   ],
   "source": [
    "def factorial(n):\n",
    "    if n==1:\n",
    "        return 1\n",
    "    else :\n",
    "        return n*factorial(n-1)\n",
    "\n",
    "factorial(4)"
   ]
  },
  {
   "cell_type": "markdown",
   "id": "84ff1d1a",
   "metadata": {},
   "source": [
    "# Fibonacci"
   ]
  },
  {
   "cell_type": "code",
   "execution_count": 10,
   "id": "aacf4f58",
   "metadata": {},
   "outputs": [
    {
     "data": {
      "text/plain": [
       "(2, 3, 5, 8, 13, 21, 34, 55, 89, 144)"
      ]
     },
     "execution_count": 10,
     "metadata": {},
     "output_type": "execute_result"
    }
   ],
   "source": [
    "def fib(n):\n",
    "    if n==1 or n==0:\n",
    "        return 1\n",
    "    else :\n",
    "        return fib(n-1) + fib(n-2)\n",
    "    \n",
    "fib(2), fib(3), fib(4) ,fib(5), fib(6), fib(7), fib(8), fib(9), fib(10), fib(11)"
   ]
  },
  {
   "cell_type": "markdown",
   "id": "9a1bed1d",
   "metadata": {},
   "source": [
    "# Finding squares till input number"
   ]
  },
  {
   "cell_type": "code",
   "execution_count": 11,
   "id": "fe8d5731",
   "metadata": {},
   "outputs": [
    {
     "name": "stdout",
     "output_type": "stream",
     "text": [
      "1\n",
      "2\n",
      "4\n",
      "8\n",
      "16\n"
     ]
    },
    {
     "data": {
      "text/plain": [
       "16"
      ]
     },
     "execution_count": 11,
     "metadata": {},
     "output_type": "execute_result"
    }
   ],
   "source": [
    "def power(num):\n",
    "    if num < 1:\n",
    "        return 0\n",
    "    elif num == 1:\n",
    "        print(1)\n",
    "        return 1\n",
    "    else:\n",
    "        prev = power(num//2)\n",
    "        curr = prev*2\n",
    "        print(curr)\n",
    "        return curr\n",
    "power(25)"
   ]
  },
  {
   "cell_type": "markdown",
   "id": "f88c6b61",
   "metadata": {},
   "source": [
    "# Calculating Modular Division"
   ]
  },
  {
   "cell_type": "code",
   "execution_count": 12,
   "id": "1ae55367",
   "metadata": {},
   "outputs": [
    {
     "data": {
      "text/plain": [
       "2"
      ]
     },
     "execution_count": 12,
     "metadata": {},
     "output_type": "execute_result"
    }
   ],
   "source": [
    "def mod(a, b):\n",
    "    if b<=0:\n",
    "        return -1\n",
    "    div = a//b\n",
    "    return a-div*b\n",
    "\n",
    "mod(5,3)"
   ]
  },
  {
   "cell_type": "markdown",
   "id": "21c3d287",
   "metadata": {},
   "source": [
    "# Sum"
   ]
  },
  {
   "cell_type": "code",
   "execution_count": 13,
   "id": "716ad686",
   "metadata": {},
   "outputs": [
    {
     "data": {
      "text/plain": [
       "13.333333333333357"
      ]
     },
     "execution_count": 13,
     "metadata": {},
     "output_type": "execute_result"
    }
   ],
   "source": [
    "def sum_digits(num):\n",
    "    sum=0\n",
    "    while (num>0):\n",
    "        sum += num%10\n",
    "        num /= 10\n",
    "    return sum\n",
    "\n",
    "sum_digits(5421)"
   ]
  },
  {
   "cell_type": "code",
   "execution_count": null,
   "id": "58deabb5",
   "metadata": {},
   "outputs": [],
   "source": []
  }
 ],
 "metadata": {
  "kernelspec": {
   "display_name": "Python 3 (ipykernel)",
   "language": "python",
   "name": "python3"
  },
  "language_info": {
   "codemirror_mode": {
    "name": "ipython",
    "version": 3
   },
   "file_extension": ".py",
   "mimetype": "text/x-python",
   "name": "python",
   "nbconvert_exporter": "python",
   "pygments_lexer": "ipython3",
   "version": "3.9.12"
  }
 },
 "nbformat": 4,
 "nbformat_minor": 5
}

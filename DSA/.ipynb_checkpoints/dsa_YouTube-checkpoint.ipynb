{
 "cells": [
  {
   "cell_type": "markdown",
   "id": "d18f7c55",
   "metadata": {},
   "source": [
    "https://www.youtube.com/watch?v=kQDxmjfkIKY&list=PL0JhNOpJ_Jcgcerj8zpWHduzWbuIqz-OY"
   ]
  },
  {
   "cell_type": "markdown",
   "id": "9f67c3f3",
   "metadata": {},
   "source": [
    "# Python Data Structure"
   ]
  },
  {
   "cell_type": "markdown",
   "id": "e673646e",
   "metadata": {},
   "source": [
    "## Indexing"
   ]
  },
  {
   "cell_type": "code",
   "execution_count": 2,
   "id": "f2c96727",
   "metadata": {},
   "outputs": [
    {
     "data": {
      "text/plain": [
       "'e'"
      ]
     },
     "execution_count": 2,
     "metadata": {},
     "output_type": "execute_result"
    }
   ],
   "source": [
    "x = 'Muqesh'\n",
    "x[3]"
   ]
  },
  {
   "cell_type": "code",
   "execution_count": 3,
   "id": "679b0f29",
   "metadata": {},
   "outputs": [
    {
     "data": {
      "text/plain": [
       "'l'"
      ]
     },
     "execution_count": 3,
     "metadata": {},
     "output_type": "execute_result"
    }
   ],
   "source": [
    "x = ['g', 'd', 's', 'l']\n",
    "x[3]"
   ]
  },
  {
   "cell_type": "code",
   "execution_count": 4,
   "id": "e3dce4a0",
   "metadata": {},
   "outputs": [
    {
     "data": {
      "text/plain": [
       "'l'"
      ]
     },
     "execution_count": 4,
     "metadata": {},
     "output_type": "execute_result"
    }
   ],
   "source": [
    "x = ('g', 'd', 's', 'l')\n",
    "x[3]"
   ]
  },
  {
   "cell_type": "markdown",
   "id": "c1bbbea1",
   "metadata": {},
   "source": [
    "## Slicing"
   ]
  },
  {
   "cell_type": "code",
   "execution_count": 12,
   "id": "2bc6318c",
   "metadata": {},
   "outputs": [
    {
     "name": "stdout",
     "output_type": "stream",
     "text": [
      "uq\n",
      "ueh\n",
      "h\n",
      "hsequM\n",
      "uqesh\n"
     ]
    }
   ],
   "source": [
    "x = 'Muqesh'\n",
    "print(x[1:3])\n",
    "print(x[1:6:2])\n",
    "print(x[-1])\n",
    "print(x[::-1])\n",
    "print(x[-5:])"
   ]
  },
  {
   "cell_type": "markdown",
   "id": "e98fca09",
   "metadata": {},
   "source": [
    "## Adding and Concatnatig"
   ]
  },
  {
   "cell_type": "code",
   "execution_count": 13,
   "id": "9f0cf2be",
   "metadata": {},
   "outputs": [
    {
     "data": {
      "text/plain": [
       "['g', 'd', 's', 'l', 'h', 'o']"
      ]
     },
     "execution_count": 13,
     "metadata": {},
     "output_type": "execute_result"
    }
   ],
   "source": [
    "x = ['g', 'd', 's', 'l']\n",
    "y = ['h', 'o']\n",
    "\n",
    "x+y"
   ]
  },
  {
   "cell_type": "markdown",
   "id": "5c28c00d",
   "metadata": {},
   "source": [
    "## Multipliing"
   ]
  },
  {
   "cell_type": "code",
   "execution_count": 14,
   "id": "bb0e00aa",
   "metadata": {},
   "outputs": [
    {
     "data": {
      "text/plain": [
       "['g', 'd', 's', 'l', 'g', 'd', 's', 'l', 'g', 'd', 's', 'l']"
      ]
     },
     "execution_count": 14,
     "metadata": {},
     "output_type": "execute_result"
    }
   ],
   "source": [
    "x = ['g', 'd', 's', 'l']\n",
    "x*3"
   ]
  },
  {
   "cell_type": "markdown",
   "id": "1d668a86",
   "metadata": {},
   "source": [
    "## Membership"
   ]
  },
  {
   "cell_type": "code",
   "execution_count": 16,
   "id": "72396c50",
   "metadata": {},
   "outputs": [
    {
     "name": "stdout",
     "output_type": "stream",
     "text": [
      "False\n",
      "True\n"
     ]
    }
   ],
   "source": [
    "x = 'Muqesh'\n",
    "print('m' in x)\n",
    "print('M' in x)"
   ]
  },
  {
   "cell_type": "markdown",
   "id": "e0086842",
   "metadata": {},
   "source": [
    "## Iterating"
   ]
  },
  {
   "cell_type": "code",
   "execution_count": 19,
   "id": "ec3fbc6d",
   "metadata": {},
   "outputs": [
    {
     "name": "stdout",
     "output_type": "stream",
     "text": [
      "0 g\n",
      "1 d\n",
      "2 s\n",
      "3 l\n"
     ]
    }
   ],
   "source": [
    "x = ['g', 'd', 's', 'l']\n",
    "for index, item in enumerate(x):\n",
    "    print(index, item)"
   ]
  },
  {
   "cell_type": "markdown",
   "id": "0134023a",
   "metadata": {},
   "source": [
    "## Number of items"
   ]
  },
  {
   "cell_type": "code",
   "execution_count": 22,
   "id": "e1689ed6",
   "metadata": {},
   "outputs": [
    {
     "name": "stdout",
     "output_type": "stream",
     "text": [
      "6\n",
      "M\n"
     ]
    }
   ],
   "source": [
    "x = 'Mukesh'\n",
    "print(len(x))\n",
    "print(min(x))"
   ]
  },
  {
   "cell_type": "markdown",
   "id": "5d7d412c",
   "metadata": {},
   "source": [
    "## Min Max"
   ]
  },
  {
   "cell_type": "code",
   "execution_count": 25,
   "id": "e5678203",
   "metadata": {},
   "outputs": [
    {
     "data": {
      "text/plain": [
       "'d'"
      ]
     },
     "execution_count": 25,
     "metadata": {},
     "output_type": "execute_result"
    }
   ],
   "source": [
    "x = ['g', 'd', 's', 'l'] # Alphabetically\n",
    "min(x)"
   ]
  },
  {
   "cell_type": "code",
   "execution_count": 27,
   "id": "99ce2965",
   "metadata": {},
   "outputs": [
    {
     "name": "stdout",
     "output_type": "stream",
     "text": [
      "M\n",
      "u\n"
     ]
    }
   ],
   "source": [
    "x = 'Mukesh'\n",
    "print(min(x))\n",
    "print(max(x))"
   ]
  },
  {
   "cell_type": "markdown",
   "id": "5c55c798",
   "metadata": {},
   "source": [
    "## sorting"
   ]
  },
  {
   "cell_type": "code",
   "execution_count": 30,
   "id": "03229030",
   "metadata": {},
   "outputs": [
    {
     "name": "stdout",
     "output_type": "stream",
     "text": [
      "['d', 'g', 'l', 's']\n",
      "['M', 'e', 'h', 'k', 's', 'u']\n"
     ]
    }
   ],
   "source": [
    "x = ['g', 'd', 's', 'l']\n",
    "y = 'Mukesh'\n",
    "\n",
    "print(sorted(x))\n",
    "print(sorted(y))"
   ]
  },
  {
   "cell_type": "code",
   "execution_count": 33,
   "id": "282cd140",
   "metadata": {},
   "outputs": [
    {
     "name": "stdout",
     "output_type": "stream",
     "text": [
      "['dig', 'man', 'toy', 'tree']\n",
      "['man', 'dig', 'toy', 'tree']\n"
     ]
    }
   ],
   "source": [
    "# Sorting by 2nd index\n",
    "x = ['man', 'tree', 'toy', 'dig']\n",
    "print(sorted(x))\n",
    "print(sorted(x, key=lambda k:k[1]))"
   ]
  },
  {
   "cell_type": "markdown",
   "id": "c0e59007",
   "metadata": {},
   "source": [
    "## count"
   ]
  },
  {
   "cell_type": "code",
   "execution_count": 38,
   "id": "7689fae7",
   "metadata": {},
   "outputs": [
    {
     "data": {
      "text/plain": [
       "2"
      ]
     },
     "execution_count": 38,
     "metadata": {},
     "output_type": "execute_result"
    }
   ],
   "source": [
    "# Tells frequency/count\n",
    "x = ['man', 'tree', 'dig', 'toy', 'dig']\n",
    "x.count('dig')"
   ]
  },
  {
   "cell_type": "markdown",
   "id": "484185af",
   "metadata": {},
   "source": [
    "## Index"
   ]
  },
  {
   "cell_type": "code",
   "execution_count": 39,
   "id": "555db1a3",
   "metadata": {},
   "outputs": [
    {
     "data": {
      "text/plain": [
       "2"
      ]
     },
     "execution_count": 39,
     "metadata": {},
     "output_type": "execute_result"
    }
   ],
   "source": [
    "x = ['man', 'tree', 'dig', 'toy', 'dig']\n",
    "x.index('dig')"
   ]
  },
  {
   "cell_type": "code",
   "execution_count": 42,
   "id": "8434c3ba",
   "metadata": {},
   "outputs": [
    {
     "data": {
      "text/plain": [
       "4"
      ]
     },
     "execution_count": 42,
     "metadata": {},
     "output_type": "execute_result"
    }
   ],
   "source": [
    "y = 'Mukesh'\n",
    "y.index('s')"
   ]
  },
  {
   "cell_type": "markdown",
   "id": "c00e9734",
   "metadata": {},
   "source": [
    "## Unpacking "
   ]
  },
  {
   "cell_type": "code",
   "execution_count": 44,
   "id": "44c55a97",
   "metadata": {},
   "outputs": [
    {
     "name": "stdout",
     "output_type": "stream",
     "text": [
      "man tree dig toy dig\n",
      "man toy dig\n"
     ]
    }
   ],
   "source": [
    "x = ['man', 'tree', 'dig', 'toy', 'dig']\n",
    "a, b, c, d, e = x\n",
    "print(a, b, c, d, e)\n",
    "print(a, d, e)"
   ]
  },
  {
   "cell_type": "markdown",
   "id": "a0f574ee",
   "metadata": {},
   "source": [
    "## Lists"
   ]
  },
  {
   "cell_type": "code",
   "execution_count": 3,
   "id": "2c6d703e",
   "metadata": {},
   "outputs": [
    {
     "data": {
      "text/plain": [
       "['a', 'b', 'c', 'd', 'e']"
      ]
     },
     "execution_count": 3,
     "metadata": {},
     "output_type": "execute_result"
    }
   ],
   "source": [
    "# Creating list\n",
    "x = list()\n",
    "y = ['man', 'tree', 'dig', 'toy', 'dig']\n",
    "tupl = ('a', 'b', 'c', 'd', 'e')\n",
    "z = list(tupl)\n",
    "\n",
    "\n",
    "z"
   ]
  },
  {
   "cell_type": "code",
   "execution_count": 5,
   "id": "48a246eb",
   "metadata": {},
   "outputs": [
    {
     "name": "stdout",
     "output_type": "stream",
     "text": [
      "[0, 1, 2, 3, 4, 5, 6, 7]\n",
      "[16, 25, 36, 49, 64, 81]\n"
     ]
    }
   ],
   "source": [
    "# List Comprehension\n",
    "print([m for m in range(8)])\n",
    "print([m*m for m in range(10) if m>3])"
   ]
  },
  {
   "cell_type": "markdown",
   "id": "d59eef4b",
   "metadata": {},
   "source": [
    "## Delete"
   ]
  },
  {
   "cell_type": "code",
   "execution_count": 14,
   "id": "8e80f88a",
   "metadata": {},
   "outputs": [
    {
     "data": {
      "text/plain": [
       "['man', 'tree', 'toy', 'dig']"
      ]
     },
     "execution_count": 14,
     "metadata": {},
     "output_type": "execute_result"
    }
   ],
   "source": [
    "x = ['man', 'tree', 'dig', 'toy', 'dig']\n",
    "del(x[2])\n",
    "# del(x) # Delete entire list\n",
    "x"
   ]
  },
  {
   "cell_type": "markdown",
   "id": "54b5dcf3",
   "metadata": {},
   "source": [
    "## Append"
   ]
  },
  {
   "cell_type": "code",
   "execution_count": 17,
   "id": "e4fb47fb",
   "metadata": {},
   "outputs": [
    {
     "data": {
      "text/plain": [
       "['man', 'tree', 'dig', 'toy', 'dig', 'hi']"
      ]
     },
     "execution_count": 17,
     "metadata": {},
     "output_type": "execute_result"
    }
   ],
   "source": [
    "x = ['man', 'tree', 'dig', 'toy', 'dig']\n",
    "x.append('hi')\n",
    "x"
   ]
  },
  {
   "cell_type": "markdown",
   "id": "2a6789dd",
   "metadata": {},
   "source": [
    "## Extend"
   ]
  },
  {
   "cell_type": "code",
   "execution_count": 19,
   "id": "3591f5ea",
   "metadata": {},
   "outputs": [
    {
     "data": {
      "text/plain": [
       "['man', 'tree', 'dig', 'toy', 'dig', 'tree', 'dig']"
      ]
     },
     "execution_count": 19,
     "metadata": {},
     "output_type": "execute_result"
    }
   ],
   "source": [
    "x = ['man', 'tree', 'dig', 'toy', 'dig']\n",
    "y = ['tree', 'dig']\n",
    "x.extend(y)\n",
    "x"
   ]
  },
  {
   "cell_type": "markdown",
   "id": "6450e47a",
   "metadata": {},
   "source": [
    "## Insert"
   ]
  },
  {
   "cell_type": "code",
   "execution_count": 22,
   "id": "d096baab",
   "metadata": {},
   "outputs": [
    {
     "data": {
      "text/plain": [
       "['Hello', 'man', 'tree', 'dig', 'toy', 'dig']"
      ]
     },
     "execution_count": 22,
     "metadata": {},
     "output_type": "execute_result"
    }
   ],
   "source": [
    "x = ['man', 'tree', 'dig', 'toy', 'dig']\n",
    "x.insert(0, 'Hello')\n",
    "x"
   ]
  },
  {
   "cell_type": "markdown",
   "id": "1ed2eec0",
   "metadata": {},
   "source": [
    "## Pop"
   ]
  },
  {
   "cell_type": "code",
   "execution_count": 30,
   "id": "ad4eeeab",
   "metadata": {},
   "outputs": [
    {
     "name": "stdout",
     "output_type": "stream",
     "text": [
      "dig\n",
      "['man', 'tree', 'dig', 'toy']\n"
     ]
    }
   ],
   "source": [
    "x = ['man', 'tree', 'dig', 'toy', 'dig']\n",
    "print(x.pop())\n",
    "print(x)"
   ]
  },
  {
   "cell_type": "markdown",
   "id": "6da22991",
   "metadata": {},
   "source": [
    "## Remove"
   ]
  },
  {
   "cell_type": "code",
   "execution_count": 33,
   "id": "66790d8c",
   "metadata": {},
   "outputs": [
    {
     "data": {
      "text/plain": [
       "['man', 'tree', 'toy', 'dig']"
      ]
     },
     "execution_count": 33,
     "metadata": {},
     "output_type": "execute_result"
    }
   ],
   "source": [
    "x = ['man', 'tree', 'dig', 'toy', 'dig']\n",
    "x.remove('dig')\n",
    "x"
   ]
  },
  {
   "cell_type": "markdown",
   "id": "2b1e9f8e",
   "metadata": {},
   "source": [
    "## Reverse"
   ]
  },
  {
   "cell_type": "code",
   "execution_count": 35,
   "id": "3c4c65c4",
   "metadata": {},
   "outputs": [
    {
     "data": {
      "text/plain": [
       "['dig', 'toy', 'dig', 'tree', 'man']"
      ]
     },
     "execution_count": 35,
     "metadata": {},
     "output_type": "execute_result"
    }
   ],
   "source": [
    "x = ['man', 'tree', 'dig', 'toy', 'dig']\n",
    "x.reverse()\n",
    "x"
   ]
  },
  {
   "cell_type": "markdown",
   "id": "023b7d18",
   "metadata": {},
   "source": [
    "## Sort"
   ]
  },
  {
   "cell_type": "code",
   "execution_count": 38,
   "id": "43a1c114",
   "metadata": {},
   "outputs": [
    {
     "data": {
      "text/plain": [
       "['dig', 'dig', 'man', 'toy', 'tree']"
      ]
     },
     "execution_count": 38,
     "metadata": {},
     "output_type": "execute_result"
    }
   ],
   "source": [
    "x = ['man', 'tree', 'dig', 'toy', 'dig']\n",
    "x.sort()\n",
    "x"
   ]
  },
  {
   "cell_type": "markdown",
   "id": "ae70c112",
   "metadata": {},
   "source": [
    "## Reverse_Sort"
   ]
  },
  {
   "cell_type": "code",
   "execution_count": 41,
   "id": "c39abe7e",
   "metadata": {},
   "outputs": [
    {
     "data": {
      "text/plain": [
       "['tree', 'toy', 'man', 'dig', 'dig']"
      ]
     },
     "execution_count": 41,
     "metadata": {},
     "output_type": "execute_result"
    }
   ],
   "source": [
    "x = ['man', 'tree', 'dig', 'toy', 'dig']\n",
    "x.sort(reverse=True)\n",
    "x"
   ]
  },
  {
   "cell_type": "markdown",
   "id": "6466d65f",
   "metadata": {},
   "source": [
    "## Tuple"
   ]
  },
  {
   "cell_type": "markdown",
   "id": "e974c409",
   "metadata": {},
   "source": [
    "1. Immutable\n",
    "2. Usefull for fixed Data\n",
    "3. Faster than list\n",
    "4. Sequence Type"
   ]
  },
  {
   "cell_type": "code",
   "execution_count": 46,
   "id": "e59d3a58",
   "metadata": {},
   "outputs": [
    {
     "name": "stdout",
     "output_type": "stream",
     "text": [
      "<class 'tuple'>\n",
      "<class 'tuple'>\n",
      "<class 'tuple'>\n",
      "<class 'tuple'>\n",
      "<class 'tuple'>\n"
     ]
    }
   ],
   "source": [
    "# Creating Tuples\n",
    "x = ()\n",
    "y = (1,2,3,4)\n",
    "z = 1, 2, 3 \n",
    "a = 3,\n",
    "b = tuple([1,2,3,6,5,4,9])\n",
    "\n",
    "print(type(x))\n",
    "print(type(y))\n",
    "print(type(z))\n",
    "print(type(a))\n",
    "print(type(b))"
   ]
  },
  {
   "cell_type": "markdown",
   "id": "f0cdbdc3",
   "metadata": {},
   "source": [
    "## Tuples are immutable\n",
    "But member objects may be mutable"
   ]
  },
  {
   "cell_type": "code",
   "execution_count": 56,
   "id": "95d3882e",
   "metadata": {},
   "outputs": [
    {
     "name": "stdout",
     "output_type": "stream",
     "text": [
      "([1, 3], 5, 'Mukesh')\n"
     ]
    },
    {
     "data": {
      "text/plain": [
       "([1, 3], 5, 'Mukesh', 4, 'Scientist')"
      ]
     },
     "execution_count": 56,
     "metadata": {},
     "output_type": "execute_result"
    }
   ],
   "source": [
    "x = (1,2,3,4,5,6)\n",
    "\n",
    "# del(x[2])      # Fail\n",
    "# x[1] = 5       # Fail\n",
    "\n",
    "\n",
    "y = ([1,2,3], 5, 'Mukesh')\n",
    "del(y[0][1])     # deleting 1\n",
    "print(y)\n",
    "\n",
    "y += (4,)        # Concatenating 2 tuples\n",
    "y += ('Scientist',)        # Concatenating 2 tuples\n",
    "y"
   ]
  },
  {
   "cell_type": "markdown",
   "id": "d56dd3a9",
   "metadata": {},
   "source": [
    "## Sets"
   ]
  },
  {
   "cell_type": "markdown",
   "id": "29f63439",
   "metadata": {},
   "source": [
    "1. Stores Non-Duplicates items\n",
    "2. Very Fast sccess vs List\n",
    "3. Math Set operations (union, intersect)\n",
    "4. Sets are Unordered"
   ]
  },
  {
   "cell_type": "code",
   "execution_count": 60,
   "id": "e2ee8a8f",
   "metadata": {},
   "outputs": [
    {
     "name": "stdout",
     "output_type": "stream",
     "text": [
      "{3, 4, 5, 6, 7, 8}\n",
      "set()\n",
      "{1, 4, 5, 6, 23}\n"
     ]
    }
   ],
   "source": [
    "# Creating Sets\n",
    "x = {3,6,5,8,7,6,5,4,3,3}\n",
    "print(x)\n",
    "\n",
    "y = set()\n",
    "print(y)\n",
    "\n",
    "lst = [1,23,6,5,4,5]\n",
    "print(set(lst))"
   ]
  },
  {
   "cell_type": "code",
   "execution_count": 69,
   "id": "37c2d927",
   "metadata": {},
   "outputs": [
    {
     "name": "stdout",
     "output_type": "stream",
     "text": [
      "{3, 4, 5, 6, 7, 8}\n",
      "{4, 5, 6, 7, 8}\n",
      "5\n",
      "True\n",
      "4 {5, 6, 7, 8}\n",
      "None set()\n"
     ]
    }
   ],
   "source": [
    "x = {3,6,5,8,7,6,5,4,3,3}\n",
    "x.add(7)\n",
    "print(x)\n",
    "\n",
    "x.remove(3)\n",
    "print(x)\n",
    "\n",
    "print(len(x))\n",
    "\n",
    "print(5 in x)\n",
    "\n",
    "print(x.pop(), x)\n",
    "\n",
    "print(x.clear(), x)"
   ]
  },
  {
   "cell_type": "markdown",
   "id": "69ad091b",
   "metadata": {},
   "source": [
    "###### Mathematical Set Operations\n",
    "\n",
    "1. Intersection (AND)                 : (a & b)\n",
    "2. Union (OR)                         : (a | b)\n",
    "3. Symmetric difference (XOR)         : (a ^ b)\n",
    "4. Difference (in a but not in b)     : (a - b)\n",
    "5. subset (b contains a)              : (a <= b)\n",
    "6. superset (a contains b)            : (a >= b)"
   ]
  },
  {
   "cell_type": "code",
   "execution_count": 74,
   "id": "b7f76983",
   "metadata": {},
   "outputs": [
    {
     "name": "stdout",
     "output_type": "stream",
     "text": [
      "{3}\n",
      "{1, 2, 3, 4, 5}\n",
      "{1, 2, 4, 5}\n",
      "{1, 2}\n",
      "False\n",
      "False\n"
     ]
    }
   ],
   "source": [
    "\n",
    "# Mathematical Set Operations\n",
    "s1 = {1,2,3}\n",
    "s2 = {3,4,5}\n",
    "\n",
    "print(s1 & s2) \n",
    "print(s1 | s2) \n",
    "print(s1 ^ s2) \n",
    "print(s1 - s2) \n",
    "print(s1 <= s2) \n",
    "print(s1 >= s2) "
   ]
  },
  {
   "cell_type": "markdown",
   "id": "9f8ae124",
   "metadata": {},
   "source": [
    "## Dictionary"
   ]
  },
  {
   "cell_type": "markdown",
   "id": "8ed8ad51",
   "metadata": {},
   "source": [
    "1. Key/Values Pairs\n",
    "2. Associatives array\n",
    "3. Dicts are Unorderd"
   ]
  },
  {
   "cell_type": "code",
   "execution_count": 86,
   "id": "842f021d",
   "metadata": {},
   "outputs": [
    {
     "name": "stdout",
     "output_type": "stream",
     "text": [
      "{'a': 1, 'b': 2, 'c': 3.0}\n",
      "{'a': 2, 'b': 4, 'c': 6.0}\n",
      "{'a': 3, 'b': 6, 'c': 9.0}\n"
     ]
    }
   ],
   "source": [
    "# Creating Dict\n",
    "x = {'a':1, 'b':2, 'c':3.0}\n",
    "print(x)\n",
    "\n",
    "y = dict([('a', 2),('b',4), ('c',6.0)])\n",
    "print(y)\n",
    "\n",
    "z =  dict(a= 3, b=6, c=9.0)\n",
    "print(z)"
   ]
  },
  {
   "cell_type": "code",
   "execution_count": 91,
   "id": "b313312b",
   "metadata": {},
   "outputs": [
    {
     "name": "stdout",
     "output_type": "stream",
     "text": [
      "{'a': 1, 'b': 2, 'c': 4.0, 'd': 5.0}\n",
      "4\n"
     ]
    }
   ],
   "source": [
    "# Dict Operations\n",
    "\n",
    "x['c'] = 4.0     # Update\n",
    "x['d'] = 5.0     # Add\n",
    "print(x)\n",
    "\n",
    "print(len(x))\n",
    "\n",
    "x.clear()        # Clearing Items\n",
    "\n",
    "del(x)           # deleting dict"
   ]
  },
  {
   "cell_type": "code",
   "execution_count": 100,
   "id": "fc737137",
   "metadata": {},
   "outputs": [
    {
     "name": "stdout",
     "output_type": "stream",
     "text": [
      "dict_keys(['a', 'b', 'c'])\n",
      "dict_values([1, 2, 3.0])\n",
      "dict_items([('a', 1), ('b', 2), ('c', 3.0)])\n",
      "False\n",
      "True\n"
     ]
    }
   ],
   "source": [
    "# Accessing Key values in dict\n",
    "x = {'a':1, 'b':2, 'c':3.0}\n",
    "\n",
    "print(x.keys())\n",
    "print(x.values())\n",
    "print(x.items())\n",
    "\n",
    "print('d' in x)\n",
    "\n",
    "print(2 in x.values())"
   ]
  },
  {
   "cell_type": "code",
   "execution_count": null,
   "id": "321a21bb",
   "metadata": {},
   "outputs": [],
   "source": []
  },
  {
   "cell_type": "code",
   "execution_count": null,
   "id": "bab0b351",
   "metadata": {},
   "outputs": [],
   "source": []
  },
  {
   "cell_type": "code",
   "execution_count": null,
   "id": "e8d0f016",
   "metadata": {},
   "outputs": [],
   "source": []
  },
  {
   "cell_type": "code",
   "execution_count": null,
   "id": "1135d476",
   "metadata": {},
   "outputs": [],
   "source": []
  },
  {
   "cell_type": "code",
   "execution_count": null,
   "id": "848ba234",
   "metadata": {},
   "outputs": [],
   "source": []
  },
  {
   "cell_type": "code",
   "execution_count": null,
   "id": "c9b55657",
   "metadata": {},
   "outputs": [],
   "source": []
  },
  {
   "cell_type": "code",
   "execution_count": null,
   "id": "90cf3f1c",
   "metadata": {},
   "outputs": [],
   "source": []
  },
  {
   "cell_type": "code",
   "execution_count": null,
   "id": "7ef4e2c9",
   "metadata": {},
   "outputs": [],
   "source": []
  },
  {
   "cell_type": "code",
   "execution_count": null,
   "id": "16f9e1e5",
   "metadata": {},
   "outputs": [],
   "source": []
  },
  {
   "cell_type": "code",
   "execution_count": null,
   "id": "f74d1945",
   "metadata": {},
   "outputs": [],
   "source": []
  },
  {
   "cell_type": "code",
   "execution_count": null,
   "id": "eb00c22d",
   "metadata": {},
   "outputs": [],
   "source": []
  }
 ],
 "metadata": {
  "kernelspec": {
   "display_name": "Python 3 (ipykernel)",
   "language": "python",
   "name": "python3"
  },
  "language_info": {
   "codemirror_mode": {
    "name": "ipython",
    "version": 3
   },
   "file_extension": ".py",
   "mimetype": "text/x-python",
   "name": "python",
   "nbconvert_exporter": "python",
   "pygments_lexer": "ipython3",
   "version": "3.9.12"
  }
 },
 "nbformat": 4,
 "nbformat_minor": 5
}

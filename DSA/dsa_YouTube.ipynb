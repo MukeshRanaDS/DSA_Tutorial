{
 "cells": [
  {
   "cell_type": "markdown",
   "id": "d18f7c55",
   "metadata": {},
   "source": [
    "https://www.youtube.com/watch?v=kQDxmjfkIKY&list=PL0JhNOpJ_Jcgcerj8zpWHduzWbuIqz-OY"
   ]
  },
  {
   "cell_type": "markdown",
   "id": "9f67c3f3",
   "metadata": {},
   "source": [
    "# Python Data Structure"
   ]
  },
  {
   "cell_type": "markdown",
   "id": "e673646e",
   "metadata": {},
   "source": [
    "## Indexing"
   ]
  },
  {
   "cell_type": "code",
   "execution_count": 1,
   "id": "f2c96727",
   "metadata": {},
   "outputs": [
    {
     "data": {
      "text/plain": [
       "'e'"
      ]
     },
     "execution_count": 1,
     "metadata": {},
     "output_type": "execute_result"
    }
   ],
   "source": [
    "x = 'Muqesh'\n",
    "x[3]"
   ]
  },
  {
   "cell_type": "code",
   "execution_count": 2,
   "id": "679b0f29",
   "metadata": {},
   "outputs": [
    {
     "data": {
      "text/plain": [
       "'l'"
      ]
     },
     "execution_count": 2,
     "metadata": {},
     "output_type": "execute_result"
    }
   ],
   "source": [
    "x = ['g', 'd', 's', 'l']\n",
    "x[3]"
   ]
  },
  {
   "cell_type": "code",
   "execution_count": 3,
   "id": "e3dce4a0",
   "metadata": {},
   "outputs": [
    {
     "data": {
      "text/plain": [
       "'l'"
      ]
     },
     "execution_count": 3,
     "metadata": {},
     "output_type": "execute_result"
    }
   ],
   "source": [
    "x = ('g', 'd', 's', 'l')\n",
    "x[3]"
   ]
  },
  {
   "cell_type": "markdown",
   "id": "c1bbbea1",
   "metadata": {},
   "source": [
    "## Slicing"
   ]
  },
  {
   "cell_type": "code",
   "execution_count": 4,
   "id": "2bc6318c",
   "metadata": {},
   "outputs": [
    {
     "name": "stdout",
     "output_type": "stream",
     "text": [
      "uq\n",
      "ueh\n",
      "h\n",
      "hsequM\n",
      "uqesh\n"
     ]
    }
   ],
   "source": [
    "x = 'Muqesh'\n",
    "print(x[1:3])\n",
    "print(x[1:6:2])\n",
    "print(x[-1])\n",
    "print(x[::-1])\n",
    "print(x[-5:])"
   ]
  },
  {
   "cell_type": "markdown",
   "id": "e98fca09",
   "metadata": {},
   "source": [
    "## Adding and Concatnatig"
   ]
  },
  {
   "cell_type": "code",
   "execution_count": 5,
   "id": "9f0cf2be",
   "metadata": {},
   "outputs": [
    {
     "data": {
      "text/plain": [
       "['g', 'd', 's', 'l', 'h', 'o']"
      ]
     },
     "execution_count": 5,
     "metadata": {},
     "output_type": "execute_result"
    }
   ],
   "source": [
    "x = ['g', 'd', 's', 'l']\n",
    "y = ['h', 'o']\n",
    "\n",
    "x+y"
   ]
  },
  {
   "cell_type": "markdown",
   "id": "5c28c00d",
   "metadata": {},
   "source": [
    "## Multipliing"
   ]
  },
  {
   "cell_type": "code",
   "execution_count": 6,
   "id": "bb0e00aa",
   "metadata": {},
   "outputs": [
    {
     "data": {
      "text/plain": [
       "['g', 'd', 's', 'l', 'g', 'd', 's', 'l', 'g', 'd', 's', 'l']"
      ]
     },
     "execution_count": 6,
     "metadata": {},
     "output_type": "execute_result"
    }
   ],
   "source": [
    "x = ['g', 'd', 's', 'l']\n",
    "x*3"
   ]
  },
  {
   "cell_type": "markdown",
   "id": "1d668a86",
   "metadata": {},
   "source": [
    "## Membership"
   ]
  },
  {
   "cell_type": "code",
   "execution_count": 7,
   "id": "72396c50",
   "metadata": {},
   "outputs": [
    {
     "name": "stdout",
     "output_type": "stream",
     "text": [
      "False\n",
      "True\n"
     ]
    }
   ],
   "source": [
    "x = 'Muqesh'\n",
    "print('m' in x)\n",
    "print('M' in x)"
   ]
  },
  {
   "cell_type": "markdown",
   "id": "e0086842",
   "metadata": {},
   "source": [
    "## Iterating"
   ]
  },
  {
   "cell_type": "code",
   "execution_count": 8,
   "id": "ec3fbc6d",
   "metadata": {},
   "outputs": [
    {
     "name": "stdout",
     "output_type": "stream",
     "text": [
      "0 g\n",
      "1 d\n",
      "2 s\n",
      "3 l\n"
     ]
    }
   ],
   "source": [
    "x = ['g', 'd', 's', 'l']\n",
    "for index, item in enumerate(x):\n",
    "    print(index, item)"
   ]
  },
  {
   "cell_type": "markdown",
   "id": "0134023a",
   "metadata": {},
   "source": [
    "## Number of items"
   ]
  },
  {
   "cell_type": "code",
   "execution_count": 9,
   "id": "e1689ed6",
   "metadata": {},
   "outputs": [
    {
     "name": "stdout",
     "output_type": "stream",
     "text": [
      "6\n",
      "M\n"
     ]
    }
   ],
   "source": [
    "x = 'Mukesh'\n",
    "print(len(x))\n",
    "print(min(x))"
   ]
  },
  {
   "cell_type": "markdown",
   "id": "5d7d412c",
   "metadata": {},
   "source": [
    "## Min Max"
   ]
  },
  {
   "cell_type": "code",
   "execution_count": 10,
   "id": "e5678203",
   "metadata": {},
   "outputs": [
    {
     "data": {
      "text/plain": [
       "'d'"
      ]
     },
     "execution_count": 10,
     "metadata": {},
     "output_type": "execute_result"
    }
   ],
   "source": [
    "x = ['g', 'd', 's', 'l'] # Alphabetically\n",
    "min(x)"
   ]
  },
  {
   "cell_type": "code",
   "execution_count": 11,
   "id": "99ce2965",
   "metadata": {},
   "outputs": [
    {
     "name": "stdout",
     "output_type": "stream",
     "text": [
      "M\n",
      "u\n"
     ]
    }
   ],
   "source": [
    "x = 'Mukesh'\n",
    "print(min(x))\n",
    "print(max(x))"
   ]
  },
  {
   "cell_type": "markdown",
   "id": "5c55c798",
   "metadata": {},
   "source": [
    "## sorting"
   ]
  },
  {
   "cell_type": "code",
   "execution_count": 12,
   "id": "03229030",
   "metadata": {},
   "outputs": [
    {
     "name": "stdout",
     "output_type": "stream",
     "text": [
      "['d', 'g', 'l', 's']\n",
      "['M', 'e', 'h', 'k', 's', 'u']\n"
     ]
    }
   ],
   "source": [
    "x = ['g', 'd', 's', 'l']\n",
    "y = 'Mukesh'\n",
    "\n",
    "print(sorted(x))\n",
    "print(sorted(y))"
   ]
  },
  {
   "cell_type": "code",
   "execution_count": 13,
   "id": "282cd140",
   "metadata": {},
   "outputs": [
    {
     "name": "stdout",
     "output_type": "stream",
     "text": [
      "['dig', 'man', 'toy', 'tree']\n",
      "['man', 'dig', 'toy', 'tree']\n"
     ]
    }
   ],
   "source": [
    "# Sorting by 2nd index\n",
    "x = ['man', 'tree', 'toy', 'dig']\n",
    "print(sorted(x))\n",
    "print(sorted(x, key=lambda k:k[1]))"
   ]
  },
  {
   "cell_type": "markdown",
   "id": "c0e59007",
   "metadata": {},
   "source": [
    "## count"
   ]
  },
  {
   "cell_type": "code",
   "execution_count": 14,
   "id": "7689fae7",
   "metadata": {},
   "outputs": [
    {
     "data": {
      "text/plain": [
       "2"
      ]
     },
     "execution_count": 14,
     "metadata": {},
     "output_type": "execute_result"
    }
   ],
   "source": [
    "# Tells frequency/count\n",
    "x = ['man', 'tree', 'dig', 'toy', 'dig']\n",
    "x.count('dig')"
   ]
  },
  {
   "cell_type": "markdown",
   "id": "484185af",
   "metadata": {},
   "source": [
    "## Index"
   ]
  },
  {
   "cell_type": "code",
   "execution_count": 15,
   "id": "555db1a3",
   "metadata": {},
   "outputs": [
    {
     "data": {
      "text/plain": [
       "2"
      ]
     },
     "execution_count": 15,
     "metadata": {},
     "output_type": "execute_result"
    }
   ],
   "source": [
    "x = ['man', 'tree', 'dig', 'toy', 'dig']\n",
    "x.index('dig')"
   ]
  },
  {
   "cell_type": "code",
   "execution_count": 16,
   "id": "8434c3ba",
   "metadata": {},
   "outputs": [
    {
     "data": {
      "text/plain": [
       "4"
      ]
     },
     "execution_count": 16,
     "metadata": {},
     "output_type": "execute_result"
    }
   ],
   "source": [
    "y = 'Mukesh'\n",
    "y.index('s')"
   ]
  },
  {
   "cell_type": "markdown",
   "id": "c00e9734",
   "metadata": {},
   "source": [
    "## Unpacking "
   ]
  },
  {
   "cell_type": "code",
   "execution_count": 17,
   "id": "44c55a97",
   "metadata": {},
   "outputs": [
    {
     "name": "stdout",
     "output_type": "stream",
     "text": [
      "man tree dig toy dig\n",
      "man toy dig\n"
     ]
    }
   ],
   "source": [
    "x = ['man', 'tree', 'dig', 'toy', 'dig']\n",
    "a, b, c, d, e = x\n",
    "print(a, b, c, d, e)\n",
    "print(a, d, e)"
   ]
  },
  {
   "cell_type": "markdown",
   "id": "a0f574ee",
   "metadata": {},
   "source": [
    "## Lists"
   ]
  },
  {
   "cell_type": "code",
   "execution_count": 18,
   "id": "2c6d703e",
   "metadata": {},
   "outputs": [
    {
     "data": {
      "text/plain": [
       "['a', 'b', 'c', 'd', 'e']"
      ]
     },
     "execution_count": 18,
     "metadata": {},
     "output_type": "execute_result"
    }
   ],
   "source": [
    "# Creating list\n",
    "x = list()\n",
    "y = ['man', 'tree', 'dig', 'toy', 'dig']\n",
    "tupl = ('a', 'b', 'c', 'd', 'e')\n",
    "z = list(tupl)\n",
    "\n",
    "\n",
    "z"
   ]
  },
  {
   "cell_type": "code",
   "execution_count": 19,
   "id": "48a246eb",
   "metadata": {},
   "outputs": [
    {
     "name": "stdout",
     "output_type": "stream",
     "text": [
      "[0, 1, 2, 3, 4, 5, 6, 7]\n",
      "[16, 25, 36, 49, 64, 81]\n"
     ]
    }
   ],
   "source": [
    "# List Comprehension\n",
    "print([m for m in range(8)])\n",
    "print([m*m for m in range(10) if m>3])"
   ]
  },
  {
   "cell_type": "markdown",
   "id": "d59eef4b",
   "metadata": {},
   "source": [
    "## Delete"
   ]
  },
  {
   "cell_type": "code",
   "execution_count": 20,
   "id": "8e80f88a",
   "metadata": {},
   "outputs": [
    {
     "data": {
      "text/plain": [
       "['man', 'tree', 'toy', 'dig']"
      ]
     },
     "execution_count": 20,
     "metadata": {},
     "output_type": "execute_result"
    }
   ],
   "source": [
    "x = ['man', 'tree', 'dig', 'toy', 'dig']\n",
    "del(x[2])\n",
    "# del(x) # Delete entire list\n",
    "x"
   ]
  },
  {
   "cell_type": "markdown",
   "id": "54b5dcf3",
   "metadata": {},
   "source": [
    "## Append"
   ]
  },
  {
   "cell_type": "code",
   "execution_count": 21,
   "id": "e4fb47fb",
   "metadata": {},
   "outputs": [
    {
     "data": {
      "text/plain": [
       "['man', 'tree', 'dig', 'toy', 'dig', 'hi']"
      ]
     },
     "execution_count": 21,
     "metadata": {},
     "output_type": "execute_result"
    }
   ],
   "source": [
    "x = ['man', 'tree', 'dig', 'toy', 'dig']\n",
    "x.append('hi')\n",
    "x"
   ]
  },
  {
   "cell_type": "markdown",
   "id": "2a6789dd",
   "metadata": {},
   "source": [
    "## Extend"
   ]
  },
  {
   "cell_type": "code",
   "execution_count": 22,
   "id": "3591f5ea",
   "metadata": {},
   "outputs": [
    {
     "data": {
      "text/plain": [
       "['man', 'tree', 'dig', 'toy', 'dig', 'tree', 'dig']"
      ]
     },
     "execution_count": 22,
     "metadata": {},
     "output_type": "execute_result"
    }
   ],
   "source": [
    "x = ['man', 'tree', 'dig', 'toy', 'dig']\n",
    "y = ['tree', 'dig']\n",
    "x.extend(y)\n",
    "x"
   ]
  },
  {
   "cell_type": "markdown",
   "id": "6450e47a",
   "metadata": {},
   "source": [
    "## Insert"
   ]
  },
  {
   "cell_type": "code",
   "execution_count": 23,
   "id": "d096baab",
   "metadata": {},
   "outputs": [
    {
     "data": {
      "text/plain": [
       "['Hello', 'man', 'tree', 'dig', 'toy', 'dig']"
      ]
     },
     "execution_count": 23,
     "metadata": {},
     "output_type": "execute_result"
    }
   ],
   "source": [
    "x = ['man', 'tree', 'dig', 'toy', 'dig']\n",
    "x.insert(0, 'Hello')\n",
    "x"
   ]
  },
  {
   "cell_type": "markdown",
   "id": "1ed2eec0",
   "metadata": {},
   "source": [
    "## Pop"
   ]
  },
  {
   "cell_type": "code",
   "execution_count": 24,
   "id": "ad4eeeab",
   "metadata": {},
   "outputs": [
    {
     "name": "stdout",
     "output_type": "stream",
     "text": [
      "dig\n",
      "['man', 'tree', 'dig', 'toy']\n"
     ]
    }
   ],
   "source": [
    "x = ['man', 'tree', 'dig', 'toy', 'dig']\n",
    "print(x.pop())\n",
    "print(x)"
   ]
  },
  {
   "cell_type": "markdown",
   "id": "6da22991",
   "metadata": {},
   "source": [
    "## Remove"
   ]
  },
  {
   "cell_type": "code",
   "execution_count": 25,
   "id": "66790d8c",
   "metadata": {},
   "outputs": [
    {
     "data": {
      "text/plain": [
       "['man', 'tree', 'toy', 'dig']"
      ]
     },
     "execution_count": 25,
     "metadata": {},
     "output_type": "execute_result"
    }
   ],
   "source": [
    "x = ['man', 'tree', 'dig', 'toy', 'dig']\n",
    "x.remove('dig')\n",
    "x"
   ]
  },
  {
   "cell_type": "markdown",
   "id": "2b1e9f8e",
   "metadata": {},
   "source": [
    "## Reverse"
   ]
  },
  {
   "cell_type": "code",
   "execution_count": 26,
   "id": "3c4c65c4",
   "metadata": {},
   "outputs": [
    {
     "data": {
      "text/plain": [
       "['dig', 'toy', 'dig', 'tree', 'man']"
      ]
     },
     "execution_count": 26,
     "metadata": {},
     "output_type": "execute_result"
    }
   ],
   "source": [
    "x = ['man', 'tree', 'dig', 'toy', 'dig']\n",
    "x.reverse()\n",
    "x"
   ]
  },
  {
   "cell_type": "markdown",
   "id": "023b7d18",
   "metadata": {},
   "source": [
    "## Sort"
   ]
  },
  {
   "cell_type": "code",
   "execution_count": 27,
   "id": "43a1c114",
   "metadata": {},
   "outputs": [
    {
     "data": {
      "text/plain": [
       "['dig', 'dig', 'man', 'toy', 'tree']"
      ]
     },
     "execution_count": 27,
     "metadata": {},
     "output_type": "execute_result"
    }
   ],
   "source": [
    "x = ['man', 'tree', 'dig', 'toy', 'dig']\n",
    "x.sort()\n",
    "x"
   ]
  },
  {
   "cell_type": "markdown",
   "id": "ae70c112",
   "metadata": {},
   "source": [
    "## Reverse_Sort"
   ]
  },
  {
   "cell_type": "code",
   "execution_count": 28,
   "id": "c39abe7e",
   "metadata": {},
   "outputs": [
    {
     "data": {
      "text/plain": [
       "['tree', 'toy', 'man', 'dig', 'dig']"
      ]
     },
     "execution_count": 28,
     "metadata": {},
     "output_type": "execute_result"
    }
   ],
   "source": [
    "x = ['man', 'tree', 'dig', 'toy', 'dig']\n",
    "x.sort(reverse=True)\n",
    "x"
   ]
  },
  {
   "cell_type": "markdown",
   "id": "6466d65f",
   "metadata": {},
   "source": [
    "## Tuple"
   ]
  },
  {
   "cell_type": "markdown",
   "id": "e974c409",
   "metadata": {},
   "source": [
    "1. Immutable\n",
    "2. Usefull for fixed Data\n",
    "3. Faster than list\n",
    "4. Sequence Type"
   ]
  },
  {
   "cell_type": "code",
   "execution_count": 29,
   "id": "e59d3a58",
   "metadata": {},
   "outputs": [
    {
     "name": "stdout",
     "output_type": "stream",
     "text": [
      "<class 'tuple'>\n",
      "<class 'tuple'>\n",
      "<class 'tuple'>\n",
      "<class 'tuple'>\n",
      "<class 'tuple'>\n"
     ]
    }
   ],
   "source": [
    "# Creating Tuples\n",
    "x = ()\n",
    "y = (1,2,3,4)\n",
    "z = 1, 2, 3 \n",
    "a = 3,\n",
    "b = tuple([1,2,3,6,5,4,9])\n",
    "\n",
    "print(type(x))\n",
    "print(type(y))\n",
    "print(type(z))\n",
    "print(type(a))\n",
    "print(type(b))"
   ]
  },
  {
   "cell_type": "markdown",
   "id": "f0cdbdc3",
   "metadata": {},
   "source": [
    "## Tuples are immutable\n",
    "But member objects may be mutable"
   ]
  },
  {
   "cell_type": "code",
   "execution_count": 30,
   "id": "95d3882e",
   "metadata": {},
   "outputs": [
    {
     "name": "stdout",
     "output_type": "stream",
     "text": [
      "([1, 3], 5, 'Mukesh')\n"
     ]
    },
    {
     "data": {
      "text/plain": [
       "([1, 3], 5, 'Mukesh', 4, 'Scientist')"
      ]
     },
     "execution_count": 30,
     "metadata": {},
     "output_type": "execute_result"
    }
   ],
   "source": [
    "x = (1,2,3,4,5,6)\n",
    "\n",
    "# del(x[2])      # Fail\n",
    "# x[1] = 5       # Fail\n",
    "\n",
    "\n",
    "y = ([1,2,3], 5, 'Mukesh')\n",
    "del(y[0][1])     # deleting 1\n",
    "print(y)\n",
    "\n",
    "y += (4,)        # Concatenating 2 tuples\n",
    "y += ('Scientist',)        # Concatenating 2 tuples\n",
    "y"
   ]
  },
  {
   "cell_type": "markdown",
   "id": "d56dd3a9",
   "metadata": {},
   "source": [
    "## Sets"
   ]
  },
  {
   "cell_type": "markdown",
   "id": "29f63439",
   "metadata": {},
   "source": [
    "1. Stores Non-Duplicates items\n",
    "2. Very Fast sccess vs List\n",
    "3. Math Set operations (union, intersect)\n",
    "4. Sets are Unordered"
   ]
  },
  {
   "cell_type": "code",
   "execution_count": 31,
   "id": "e2ee8a8f",
   "metadata": {},
   "outputs": [
    {
     "name": "stdout",
     "output_type": "stream",
     "text": [
      "{3, 4, 5, 6, 7, 8}\n",
      "set()\n",
      "{1, 4, 5, 6, 23}\n"
     ]
    }
   ],
   "source": [
    "# Creating Sets\n",
    "x = {3,6,5,8,7,6,5,4,3,3}\n",
    "print(x)\n",
    "\n",
    "y = set()\n",
    "print(y)\n",
    "\n",
    "lst = [1,23,6,5,4,5]\n",
    "print(set(lst))"
   ]
  },
  {
   "cell_type": "code",
   "execution_count": 32,
   "id": "37c2d927",
   "metadata": {},
   "outputs": [
    {
     "name": "stdout",
     "output_type": "stream",
     "text": [
      "{3, 4, 5, 6, 7, 8}\n",
      "{4, 5, 6, 7, 8}\n",
      "5\n",
      "True\n",
      "4 {5, 6, 7, 8}\n",
      "None set()\n"
     ]
    }
   ],
   "source": [
    "x = {3,6,5,8,7,6,5,4,3,3}\n",
    "x.add(7)\n",
    "print(x)\n",
    "\n",
    "x.remove(3)\n",
    "print(x)\n",
    "\n",
    "print(len(x))\n",
    "\n",
    "print(5 in x)\n",
    "\n",
    "print(x.pop(), x)\n",
    "\n",
    "print(x.clear(), x)"
   ]
  },
  {
   "cell_type": "markdown",
   "id": "69ad091b",
   "metadata": {},
   "source": [
    "###### Mathematical Set Operations\n",
    "\n",
    "1. Intersection (AND)                 : (a & b)\n",
    "2. Union (OR)                         : (a | b)\n",
    "3. Symmetric difference (XOR)         : (a ^ b)\n",
    "4. Difference (in a but not in b)     : (a - b)\n",
    "5. subset (b contains a)              : (a <= b)\n",
    "6. superset (a contains b)            : (a >= b)"
   ]
  },
  {
   "cell_type": "code",
   "execution_count": 33,
   "id": "b7f76983",
   "metadata": {},
   "outputs": [
    {
     "name": "stdout",
     "output_type": "stream",
     "text": [
      "{3}\n",
      "{1, 2, 3, 4, 5}\n",
      "{1, 2, 4, 5}\n",
      "{1, 2}\n",
      "False\n",
      "False\n"
     ]
    }
   ],
   "source": [
    "\n",
    "# Mathematical Set Operations\n",
    "s1 = {1,2,3}\n",
    "s2 = {3,4,5}\n",
    "\n",
    "print(s1 & s2) \n",
    "print(s1 | s2) \n",
    "print(s1 ^ s2) \n",
    "print(s1 - s2) \n",
    "print(s1 <= s2) \n",
    "print(s1 >= s2) "
   ]
  },
  {
   "cell_type": "markdown",
   "id": "9f8ae124",
   "metadata": {},
   "source": [
    "## Dictionary"
   ]
  },
  {
   "cell_type": "markdown",
   "id": "8ed8ad51",
   "metadata": {},
   "source": [
    "1. Key/Values Pairs\n",
    "2. Associatives array\n",
    "3. Dicts are Unorderd"
   ]
  },
  {
   "cell_type": "code",
   "execution_count": 34,
   "id": "842f021d",
   "metadata": {},
   "outputs": [
    {
     "name": "stdout",
     "output_type": "stream",
     "text": [
      "{'a': 1, 'b': 2, 'c': 3.0}\n",
      "{'a': 2, 'b': 4, 'c': 6.0}\n",
      "{'a': 3, 'b': 6, 'c': 9.0}\n"
     ]
    }
   ],
   "source": [
    "# Creating Dict\n",
    "x = {'a':1, 'b':2, 'c':3.0}\n",
    "print(x)\n",
    "\n",
    "y = dict([('a', 2),('b',4), ('c',6.0)])\n",
    "print(y)\n",
    "\n",
    "z =  dict(a= 3, b=6, c=9.0)\n",
    "print(z)"
   ]
  },
  {
   "cell_type": "code",
   "execution_count": 35,
   "id": "b313312b",
   "metadata": {},
   "outputs": [
    {
     "name": "stdout",
     "output_type": "stream",
     "text": [
      "{'a': 1, 'b': 2, 'c': 4.0, 'd': 5.0}\n",
      "4\n"
     ]
    }
   ],
   "source": [
    "# Dict Operations\n",
    "\n",
    "x['c'] = 4.0     # Update\n",
    "x['d'] = 5.0     # Add\n",
    "print(x)\n",
    "\n",
    "print(len(x))\n",
    "\n",
    "x.clear()        # Clearing Items\n",
    "\n",
    "del(x)           # deleting dict"
   ]
  },
  {
   "cell_type": "code",
   "execution_count": 36,
   "id": "fc737137",
   "metadata": {},
   "outputs": [
    {
     "name": "stdout",
     "output_type": "stream",
     "text": [
      "dict_keys(['a', 'b', 'c'])\n",
      "dict_values([1, 2, 3.0])\n",
      "dict_items([('a', 1), ('b', 2), ('c', 3.0)])\n",
      "False\n",
      "True\n"
     ]
    }
   ],
   "source": [
    "# Accessing Key values in dict\n",
    "x = {'a':1, 'b':2, 'c':3.0}\n",
    "\n",
    "print(x.keys())\n",
    "print(x.values())\n",
    "print(x.items())\n",
    "\n",
    "print('d' in x)            # membership in keys\n",
    "\n",
    "print(2 in x.values())     # membership in values"
   ]
  },
  {
   "cell_type": "markdown",
   "id": "db94649e",
   "metadata": {},
   "source": [
    "## Iterating a dict\n"
   ]
  },
  {
   "cell_type": "code",
   "execution_count": 37,
   "id": "bab0b351",
   "metadata": {},
   "outputs": [
    {
     "name": "stdout",
     "output_type": "stream",
     "text": [
      "a 1\n",
      "b 2\n",
      "c 3.0\n"
     ]
    }
   ],
   "source": [
    "for key in x:\n",
    "    print(key, x[key])"
   ]
  },
  {
   "cell_type": "code",
   "execution_count": 38,
   "id": "e8d0f016",
   "metadata": {},
   "outputs": [
    {
     "name": "stdout",
     "output_type": "stream",
     "text": [
      "a 1\n",
      "b 2\n",
      "c 3.0\n"
     ]
    }
   ],
   "source": [
    "# Seperate variable for key values\n",
    "for k, v in x.items():\n",
    "    print(k, v)"
   ]
  },
  {
   "cell_type": "markdown",
   "id": "9be34bcb",
   "metadata": {},
   "source": [
    "# Python List Comprehensions"
   ]
  },
  {
   "cell_type": "code",
   "execution_count": 39,
   "id": "c9b55657",
   "metadata": {},
   "outputs": [],
   "source": [
    "import random"
   ]
  },
  {
   "cell_type": "code",
   "execution_count": 40,
   "id": "90cf3f1c",
   "metadata": {},
   "outputs": [
    {
     "name": "stdout",
     "output_type": "stream",
     "text": [
      "under_10 :[0, 1, 2, 3, 4, 5, 6, 7, 8, 9]\n"
     ]
    }
   ],
   "source": [
    "under_10 = [x for x in range(10)]\n",
    "print('under_10 :' + str(under_10)) "
   ]
  },
  {
   "cell_type": "code",
   "execution_count": 41,
   "id": "7ef4e2c9",
   "metadata": {},
   "outputs": [
    {
     "name": "stdout",
     "output_type": "stream",
     "text": [
      "under_10 :[0, 2, 4, 6, 8]\n"
     ]
    }
   ],
   "source": [
    "# Getting Even/Odd number\n",
    "under_10 = [x for x in range(10) if x%2==0]\n",
    "print('under_10 :' + str(under_10)) "
   ]
  },
  {
   "cell_type": "code",
   "execution_count": 42,
   "id": "16f9e1e5",
   "metadata": {},
   "outputs": [
    {
     "name": "stdout",
     "output_type": "stream",
     "text": [
      "Multiple of 10 : [0, 10, 20, 30, 40, 50, 60, 70, 80, 90]\n"
     ]
    }
   ],
   "source": [
    "# GEt multiple of 10\n",
    "ten = [x*10 for x in range(10)]\n",
    "print('Multiple of 10 :', str(ten))"
   ]
  },
  {
   "cell_type": "markdown",
   "id": "37a3187d",
   "metadata": {},
   "source": [
    "### Get all Numerical from a string"
   ]
  },
  {
   "cell_type": "code",
   "execution_count": 43,
   "id": "eb00c22d",
   "metadata": {},
   "outputs": [
    {
     "name": "stdout",
     "output_type": "stream",
     "text": [
      "['2', '1', '7', '5']\n",
      "2175\n"
     ]
    }
   ],
   "source": [
    "s = 'I love 2 dance w1th 7 girl5'\n",
    "lst = [x for x in s if x.isnumeric()]\n",
    "print(lst)\n",
    "print(''.join(lst))"
   ]
  },
  {
   "cell_type": "markdown",
   "id": "12466922",
   "metadata": {},
   "source": [
    "### Get index of a List item"
   ]
  },
  {
   "cell_type": "code",
   "execution_count": 44,
   "id": "ff196b06",
   "metadata": {},
   "outputs": [
    {
     "data": {
      "text/plain": [
       "3"
      ]
     },
     "execution_count": 44,
     "metadata": {},
     "output_type": "execute_result"
    }
   ],
   "source": [
    "names = ['Manu', 'Tanu', 'Don', 'Tom', 'Bob']\n",
    "[k for k, v in enumerate(names) if v=='Tom'][0]"
   ]
  },
  {
   "cell_type": "markdown",
   "id": "a95fc5e1",
   "metadata": {},
   "source": [
    "### Deleting an Item from a list"
   ]
  },
  {
   "cell_type": "code",
   "execution_count": 45,
   "id": "10e0e36f",
   "metadata": {},
   "outputs": [
    {
     "name": "stdout",
     "output_type": "stream",
     "text": [
      "['S', 'M', 'K', 'E', 'H', 'U']\n",
      "['S', 'M', 'E', 'H', 'U']\n"
     ]
    }
   ],
   "source": [
    "letters = [x for x in 'MUKESH']\n",
    "random.shuffle(letters)\n",
    "print(letters)\n",
    "print([a for a in letters if a!='K'])"
   ]
  },
  {
   "cell_type": "markdown",
   "id": "fe045051",
   "metadata": {},
   "source": [
    "## if-else condition in a Comprehension "
   ]
  },
  {
   "cell_type": "code",
   "execution_count": 46,
   "id": "7df12207",
   "metadata": {},
   "outputs": [
    {
     "data": {
      "text/plain": [
       "[50, 6, 90, 8, 4, 50, 30, 10, 2]"
      ]
     },
     "execution_count": 46,
     "metadata": {},
     "output_type": "execute_result"
    }
   ],
   "source": [
    "nums = [5,6,9,8,4,5,3,1,2]\n",
    "[x if x%2==0 else 10*x for x in nums]"
   ]
  },
  {
   "cell_type": "code",
   "execution_count": 47,
   "id": "3d493e07",
   "metadata": {},
   "outputs": [
    {
     "name": "stdout",
     "output_type": "stream",
     "text": [
      "[5, 6, 9, 8, 4, 5, 3, 1, 2]\n",
      "[50, 6, 90, 8, 4, 50, 30, 10, 2]\n",
      "[50, 6, 90, 8, 4, 50, 30, 10, 2]\n"
     ]
    }
   ],
   "source": [
    "lst = []\n",
    "for i in nums:\n",
    "    if i%2==0:\n",
    "        lst.append(i)\n",
    "    else :\n",
    "        lst.append(i*10)\n",
    "print(nums)\n",
    "print([x if x%2==0 else 10*x for x in nums])\n",
    "print(lst)"
   ]
  },
  {
   "cell_type": "markdown",
   "id": "ea1f180c",
   "metadata": {},
   "source": [
    "## Nested loops iteration for 2D"
   ]
  },
  {
   "cell_type": "code",
   "execution_count": 48,
   "id": "dd5e4c83",
   "metadata": {},
   "outputs": [
    {
     "data": {
      "text/plain": [
       "[1, 2, 3, 4]"
      ]
     },
     "execution_count": 48,
     "metadata": {},
     "output_type": "execute_result"
    }
   ],
   "source": [
    "a = [[1, 2], [3, 4]]\n",
    "[x for b in a for x in b]"
   ]
  },
  {
   "cell_type": "markdown",
   "id": "d335056e",
   "metadata": {},
   "source": [
    "# Stacks, Queues & Heaps"
   ]
  },
  {
   "cell_type": "markdown",
   "id": "b4c66c62",
   "metadata": {},
   "source": [
    "## Stacks using Python List (LIFO : Last  IN First Out)\n",
    "1. Stack is a LIFO (Last in First out) data structure.\n",
    "2. Use sppend() to push an item onto the stack\n",
    "3. Use pop() to remove an item"
   ]
  },
  {
   "cell_type": "code",
   "execution_count": 51,
   "id": "f67ec76c",
   "metadata": {},
   "outputs": [
    {
     "data": {
      "text/plain": [
       "[4, 41, 42, 43]"
      ]
     },
     "execution_count": 51,
     "metadata": {},
     "output_type": "execute_result"
    }
   ],
   "source": [
    "my_stack = list()\n",
    "\n",
    "my_stack.append(4)\n",
    "my_stack.append(41)\n",
    "my_stack.append(42)\n",
    "my_stack.append(43)\n",
    "\n",
    "my_stack"
   ]
  },
  {
   "cell_type": "code",
   "execution_count": 52,
   "id": "947cf6b9",
   "metadata": {},
   "outputs": [
    {
     "name": "stdout",
     "output_type": "stream",
     "text": [
      "43\n",
      "42\n",
      "41\n",
      "[4]\n"
     ]
    }
   ],
   "source": [
    "print(my_stack.pop())\n",
    "print(my_stack.pop())\n",
    "print(my_stack.pop())\n",
    "print(my_stack)"
   ]
  },
  {
   "cell_type": "markdown",
   "id": "122cc882",
   "metadata": {},
   "source": [
    "## Stack using List with a Wrapper Class"
   ]
  },
  {
   "cell_type": "markdown",
   "id": "5547c300",
   "metadata": {},
   "source": [
    "We create a Stack class and a full set of Stack methods. But the underlying data structure is really a Python List.\n",
    "For pop and peek methods we first check whether the stack is emplty, to avoid exceptions."
   ]
  },
  {
   "cell_type": "code",
   "execution_count": 21,
   "id": "0507324f",
   "metadata": {},
   "outputs": [],
   "source": [
    "class Stack():\n",
    "    def __init__(self):\n",
    "        self.stack= list()\n",
    "        \n",
    "    def push(self, item):\n",
    "        self.stack.append(item)\n",
    "    def pop(self):\n",
    "        if len(self.stack) > 0:\n",
    "            return self.stack.pop()\n",
    "        else :\n",
    "            return None\n",
    "    def peek(self):\n",
    "        if len(self.stack) > 0:\n",
    "            return self.stack[len(self.stack)-1]\n",
    "        else: \n",
    "            return None\n",
    "    def __str__(self):\n",
    "        return str(self.stack)"
   ]
  },
  {
   "cell_type": "markdown",
   "id": "69c954c9",
   "metadata": {},
   "source": [
    "#### Test Code for Stack Wrapper Class"
   ]
  },
  {
   "cell_type": "code",
   "execution_count": 24,
   "id": "e1da27a9",
   "metadata": {},
   "outputs": [
    {
     "name": "stdout",
     "output_type": "stream",
     "text": [
      "[1, 3]\n",
      "3\n",
      "1\n",
      "1\n",
      "None\n"
     ]
    }
   ],
   "source": [
    "my_stack = Stack()\n",
    "my_stack.push(1)\n",
    "my_stack.push(3)\n",
    "\n",
    "print(my_stack)\n",
    "print(my_stack.pop())\n",
    "print(my_stack.peek())\n",
    "print(my_stack.pop())\n",
    "print(my_stack.pop())"
   ]
  },
  {
   "cell_type": "markdown",
   "id": "0b6f5a7c",
   "metadata": {},
   "source": [
    "# Queues (FIFO : First In First Out)"
   ]
  },
  {
   "cell_type": "code",
   "execution_count": 25,
   "id": "da81abd2",
   "metadata": {},
   "outputs": [
    {
     "name": "stdout",
     "output_type": "stream",
     "text": [
      "deque([5, 10])\n",
      "5\n"
     ]
    }
   ],
   "source": [
    "from collections import deque\n",
    "my_queue = deque()\n",
    "my_queue.append(5)\n",
    "my_queue.append(10)\n",
    "\n",
    "print(my_queue)\n",
    "print(my_queue.popleft())"
   ]
  },
  {
   "cell_type": "markdown",
   "id": "2251be1c",
   "metadata": {},
   "source": [
    "# MaxHeap\n",
    "1. Complete Binary Tree\n",
    "2. Every node <= its Parant\n",
    "\n",
    "A MaxHeap always bubbles the highest values to the top, so ot can be removed instatnly."
   ]
  },
  {
   "cell_type": "markdown",
   "id": "e94cf191",
   "metadata": {},
   "source": [
    "##### Private functions : \n",
    "1. swap, \n",
    "2. __floatUp, \n",
    "3. __bubbleDown, \n",
    "4. __str."
   ]
  },
  {
   "cell_type": "code",
   "execution_count": 23,
   "id": "529ed997",
   "metadata": {},
   "outputs": [],
   "source": [
    "class MaxHeap:\n",
    "    def __init__(self, itmes=[]):\n",
    "        super().__init__()\n",
    "        self.heap = [0]\n",
    "        for item in itmes:\n",
    "            self.heap.append(item)\n",
    "            self.__floatUp(len(self.heap)-1)\n",
    "        \n",
    "    def push(self, data):\n",
    "        self.heap.append(data)\n",
    "        self.__floatUp(len(self.heap)-1)\n",
    "        \n",
    "    def peak(self):\n",
    "        if self.heap[1]:\n",
    "            return self.heap[1]\n",
    "        else : \n",
    "            return False\n",
    "        \n",
    "    def pop(self):\n",
    "        if len(self.heap)>2:\n",
    "            self.__swap(1, len(self.heap)-1)\n",
    "            max = self.heap.pop()\n",
    "            self.__bubbleDown(1)\n",
    "        elif len(self.heap)==2:\n",
    "            max = self.heap.pop()\n",
    "        else: \n",
    "            max = False\n",
    "        return max\n",
    "    \n",
    "    def __swap(self, i, j):\n",
    "        self.heap[i], self.heap[j] = self.heap[j], self.heap[i]\n",
    "    \n",
    "    def __floatUp(self, index):\n",
    "        parent = index//2\n",
    "        if index <= 1:\n",
    "            return \n",
    "        elif self.heap[index] > self.heap[parent]:\n",
    "            self.__swap(index, parent)\n",
    "            self.__floatUp(parent)\n",
    "            \n",
    "    def __bubbleDown(self, index):\n",
    "        left = index*2\n",
    "        right = index*2+1\n",
    "        largest = index\n",
    "        if len(self.heap)>left and self.heap[largest]<self.heap[left]:\n",
    "            largest=left\n",
    "        if len(self.heap)>right and self.heap[largest]<self.heap[right]:\n",
    "            largest=right\n",
    "        if largest != index:\n",
    "            self.__swap(index, largest)\n",
    "            self.__bubbleDown(largest)\n",
    "            \n",
    "    def __str__(self):\n",
    "        return str(self.heap)"
   ]
  },
  {
   "cell_type": "markdown",
   "id": "f06492dc",
   "metadata": {},
   "source": [
    "# MaxHeap Test Code"
   ]
  },
  {
   "cell_type": "code",
   "execution_count": 24,
   "id": "0552c3c6",
   "metadata": {},
   "outputs": [
    {
     "name": "stdout",
     "output_type": "stream",
     "text": [
      "[0, 95, 10, 21, 3]\n",
      "95\n",
      "21\n"
     ]
    }
   ],
   "source": [
    "m = MaxHeap([95,3,21])\n",
    "m.push(10)\n",
    "print(m)\n",
    "print(m.pop())\n",
    "print(m.peak())"
   ]
  },
  {
   "cell_type": "markdown",
   "id": "6a5667c2",
   "metadata": {},
   "source": [
    "# Linked Lists"
   ]
  },
  {
   "cell_type": "markdown",
   "id": "2db5cc51",
   "metadata": {},
   "source": [
    "### Attributes:\n",
    "#### root :  Pointer to the Beginning of the List\n",
    "#### size : Number of nodes in List\n",
    "    \n",
    "### Operations: \n",
    "1. find(data)\n",
    "2. add(data)\n",
    "3. remove(data)\n",
    "4. print_list()"
   ]
  },
  {
   "cell_type": "markdown",
   "id": "0fc53946",
   "metadata": {},
   "source": [
    "## Node Class\n"
   ]
  },
  {
   "cell_type": "code",
   "execution_count": 25,
   "id": "b6069022",
   "metadata": {},
   "outputs": [],
   "source": [
    "class Node:\n",
    "    def __init__(self, d, n=None, p=None):\n",
    "        self.data = d\n",
    "        self.next_node = n\n",
    "        self.prev_node = p\n",
    "    \n",
    "    def __str__(self):\n",
    "        return('('+str(self.data)+')')"
   ]
  },
  {
   "cell_type": "markdown",
   "id": "7a586ea1",
   "metadata": {},
   "source": [
    "## LinkedList Class"
   ]
  },
  {
   "cell_type": "markdown",
   "id": "3a66990d",
   "metadata": {},
   "source": [
    "##### 4 methods :\n",
    "1. Add\n",
    "2. Find\n",
    "3. Remove\n",
    "4. Print_list"
   ]
  },
  {
   "cell_type": "code",
   "execution_count": null,
   "id": "a735e03a",
   "metadata": {},
   "outputs": [],
   "source": [
    "class LinkedList:\n",
    "    def __inti__(self, r=None):\n",
    "        self.root = r\n",
    "        self.size = 0\n",
    "        \n",
    "    def add(self, d):\n",
    "        new_node = None(d, self.root)\n",
    "        self.root = new_node\n",
    "        self.size += 1"
   ]
  }
 ],
 "metadata": {
  "kernelspec": {
   "display_name": "Python 3 (ipykernel)",
   "language": "python",
   "name": "python3"
  },
  "language_info": {
   "codemirror_mode": {
    "name": "ipython",
    "version": 3
   },
   "file_extension": ".py",
   "mimetype": "text/x-python",
   "name": "python",
   "nbconvert_exporter": "python",
   "pygments_lexer": "ipython3",
   "version": "3.9.12"
  }
 },
 "nbformat": 4,
 "nbformat_minor": 5
}
